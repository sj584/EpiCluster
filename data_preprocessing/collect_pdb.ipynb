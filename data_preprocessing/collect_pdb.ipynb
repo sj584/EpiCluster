{
 "cells": [
  {
   "cell_type": "code",
   "execution_count": 1,
   "id": "56dc7a40",
   "metadata": {},
   "outputs": [
    {
     "data": {
      "text/html": [
       "<div>\n",
       "<style scoped>\n",
       "    .dataframe tbody tr th:only-of-type {\n",
       "        vertical-align: middle;\n",
       "    }\n",
       "\n",
       "    .dataframe tbody tr th {\n",
       "        vertical-align: top;\n",
       "    }\n",
       "\n",
       "    .dataframe thead th {\n",
       "        text-align: right;\n",
       "    }\n",
       "</style>\n",
       "<table border=\"1\" class=\"dataframe\">\n",
       "  <thead>\n",
       "    <tr style=\"text-align: right;\">\n",
       "      <th></th>\n",
       "      <th>PDB</th>\n",
       "      <th>Epitope</th>\n",
       "    </tr>\n",
       "  </thead>\n",
       "  <tbody>\n",
       "    <tr>\n",
       "      <th>0</th>\n",
       "      <td>5VX4</td>\n",
       "      <td>A:GLN:148, A:PHE:122, A:ASP:192, A:ASN:125, A:...</td>\n",
       "    </tr>\n",
       "    <tr>\n",
       "      <th>1</th>\n",
       "      <td>5F4J</td>\n",
       "      <td>A:THR:485, A:LEU:527, A:SER:526, A:SER:519, A:...</td>\n",
       "    </tr>\n",
       "    <tr>\n",
       "      <th>2</th>\n",
       "      <td>4E9O</td>\n",
       "      <td>X:SER:64, X:LEU:203, X:THR:35, X:ASN:175, X:AS...</td>\n",
       "    </tr>\n",
       "    <tr>\n",
       "      <th>3</th>\n",
       "      <td>6H3S</td>\n",
       "      <td>B:TYR:612, B:HIS:616, B:THR:582, B:GLY:615, B:...</td>\n",
       "    </tr>\n",
       "    <tr>\n",
       "      <th>4</th>\n",
       "      <td>1OQE</td>\n",
       "      <td>L:CYS:9, L:HIS:16, L:CYS:20, L:LEU:12, L:VAL:1...</td>\n",
       "    </tr>\n",
       "  </tbody>\n",
       "</table>\n",
       "</div>"
      ],
      "text/plain": [
       "    PDB                                            Epitope\n",
       "0  5VX4  A:GLN:148, A:PHE:122, A:ASP:192, A:ASN:125, A:...\n",
       "1  5F4J  A:THR:485, A:LEU:527, A:SER:526, A:SER:519, A:...\n",
       "2  4E9O  X:SER:64, X:LEU:203, X:THR:35, X:ASN:175, X:AS...\n",
       "3  6H3S  B:TYR:612, B:HIS:616, B:THR:582, B:GLY:615, B:...\n",
       "4  1OQE  L:CYS:9, L:HIS:16, L:CYS:20, L:LEU:12, L:VAL:1..."
      ]
     },
     "execution_count": 1,
     "metadata": {},
     "output_type": "execute_result"
    }
   ],
   "source": [
    "import pandas as pd\n",
    "\n",
    "df = pd.read_csv(\"example_dataset.csv\")\n",
    "df.head()"
   ]
  },
  {
   "cell_type": "code",
   "execution_count": 2,
   "id": "29a879f2",
   "metadata": {},
   "outputs": [
    {
     "name": "stdout",
     "output_type": "stream",
     "text": [
      "-1 / unknown"
     ]
    }
   ],
   "source": [
    "import os\n",
    "import wget\n",
    "import shutil\n",
    "\n",
    "pdb_dir = \"example_pdb\"\n",
    "\n",
    "if os.path.isdir(pdb_dir):\n",
    "    pass\n",
    "else:\n",
    "    os.mkdir(pdb_dir)\n",
    "        \n",
    "for pdb in df[\"PDB\"]:\n",
    "    wget.download(f\"https://files.rcsb.org/download/{pdb}.pdb\")\n",
    "    shutil.move(f\"{pdb.lower()}.pdb\", pdb_dir)"
   ]
  },
  {
   "cell_type": "code",
   "execution_count": null,
   "id": "c93ddaf6",
   "metadata": {},
   "outputs": [],
   "source": []
  }
 ],
 "metadata": {
  "kernelspec": {
   "display_name": "[torch]",
   "language": "python",
   "name": "torch"
  },
  "language_info": {
   "codemirror_mode": {
    "name": "ipython",
    "version": 3
   },
   "file_extension": ".py",
   "mimetype": "text/x-python",
   "name": "python",
   "nbconvert_exporter": "python",
   "pygments_lexer": "ipython3",
   "version": "3.8.12"
  }
 },
 "nbformat": 4,
 "nbformat_minor": 5
}
